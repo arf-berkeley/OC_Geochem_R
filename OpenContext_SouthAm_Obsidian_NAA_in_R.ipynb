{
  "nbformat": 4,
  "nbformat_minor": 0,
  "metadata": {
    "colab": {
      "name": "OpenContext_SouthAm_OBsidian_NAA_in_R.ipynb",
      "provenance": [],
      "authorship_tag": "ABX9TyO+VaQ9XC/BZ5F4zL1DUmFm",
      "include_colab_link": true
    },
    "kernelspec": {
      "name": "ir",
      "display_name": "R"
    },
    "language_info": {
      "name": "R"
    }
  },
  "cells": [
    {
      "cell_type": "markdown",
      "metadata": {
        "id": "view-in-github",
        "colab_type": "text"
      },
      "source": [
        "<a href=\"https://colab.research.google.com/github/arf-berkeley/OC_Geochem_R/blob/main/OpenContext_SouthAm_Obsidian_NAA_in_R.ipynb\" target=\"_parent\"><img src=\"https://colab.research.google.com/assets/colab-badge.svg\" alt=\"Open In Colab\"/></a>"
      ]
    },
    {
      "cell_type": "code",
      "metadata": {
        "id": "Cr5Ymba9REig"
      },
      "source": [
        "# R Notebook developed by N. Tripcevich for visualizing obsidian NAA data hosted on OpenContext"
      ],
      "execution_count": null,
      "outputs": []
    },
    {
      "cell_type": "code",
      "metadata": {
        "id": "Kaf-byL-Q3BH",
        "colab": {
          "base_uri": "https://localhost:8080/"
        },
        "outputId": "57e7b265-fdcb-426a-db3a-5b64bd2276fc"
      },
      "source": [
        "install.packages(\"tidyverse\")"
      ],
      "execution_count": 4,
      "outputs": [
        {
          "output_type": "stream",
          "text": [
            "Installing package into ‘/usr/local/lib/R/site-library’\n",
            "(as ‘lib’ is unspecified)\n",
            "\n",
            "also installing the dependencies ‘data.table’, ‘gargle’, ‘ids’, ‘dbplyr’, ‘dtplyr’, ‘googledrive’, ‘googlesheets4’, ‘pillar’\n",
            "\n",
            "\n"
          ],
          "name": "stderr"
        }
      ]
    }
  ]
}