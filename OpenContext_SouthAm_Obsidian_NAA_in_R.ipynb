{
  "nbformat": 4,
  "nbformat_minor": 0,
  "metadata": {
    "colab": {
      "name": "OpenContext_SouthAm_OBsidian_NAA_in_R.ipynb",
      "provenance": [],
      "authorship_tag": "ABX9TyNh6uLaNwcUohDd9LbrMlcI",
      "include_colab_link": true
    },
    "kernelspec": {
      "name": "ir",
      "display_name": "R"
    },
    "language_info": {
      "name": "R"
    }
  },
  "cells": [
    {
      "cell_type": "markdown",
      "metadata": {
        "id": "view-in-github",
        "colab_type": "text"
      },
      "source": [
        "<a href=\"https://colab.research.google.com/github/arf-berkeley/OC_Geochem_R/blob/main/OpenContext_SouthAm_Obsidian_NAA_in_R.ipynb\" target=\"_parent\"><img src=\"https://colab.research.google.com/assets/colab-badge.svg\" alt=\"Open In Colab\"/></a>"
      ]
    },
    {
      "cell_type": "code",
      "metadata": {
        "id": "Cr5Ymba9REig"
      },
      "source": [
        "# R Notebook developed by N. Tripcevich for visualizing obsidian NAA data hosted on OpenContext"
      ],
      "execution_count": null,
      "outputs": []
    },
    {
      "cell_type": "code",
      "metadata": {
        "id": "Kaf-byL-Q3BH",
        "colab": {
          "base_uri": "https://localhost:8080/"
        },
        "outputId": "a990eabd-77f6-4a69-f599-f176c64c9438"
      },
      "source": [
        "#install.packages(\"tidyverse\")\n",
        "install.packages(\"geojsonsf\")\n",
        "install.packages(\"sf\")"
      ],
      "execution_count": 2,
      "outputs": [
        {
          "output_type": "stream",
          "text": [
            "Installing package into ‘/usr/local/lib/R/site-library’\n",
            "(as ‘lib’ is unspecified)\n",
            "\n",
            "also installing the dependency ‘sfheaders’\n",
            "\n",
            "\n",
            "Warning message in install.packages(\"geojsonsf\"):\n",
            "“installation of package ‘sfheaders’ had non-zero exit status”\n",
            "Warning message in install.packages(\"geojsonsf\"):\n",
            "“installation of package ‘geojsonsf’ had non-zero exit status”\n",
            "Installing package into ‘/usr/local/lib/R/site-library’\n",
            "(as ‘lib’ is unspecified)\n",
            "\n",
            "also installing the dependency ‘units’\n",
            "\n",
            "\n",
            "Warning message in install.packages(\"sf\"):\n",
            "“installation of package ‘units’ had non-zero exit status”\n",
            "Warning message in install.packages(\"sf\"):\n",
            "“installation of package ‘sf’ had non-zero exit status”\n"
          ],
          "name": "stderr"
        }
      ]
    },
    {
      "cell_type": "code",
      "metadata": {
        "id": "1DU74wVDhX_D",
        "outputId": "a0ae7efc-519d-4bbe-fed3-d899494956fd",
        "colab": {
          "base_uri": "https://localhost:8080/",
          "height": 136
        }
      },
      "source": [
        "library(geojsonsf)\n",
        "library(sf)"
      ],
      "execution_count": 3,
      "outputs": [
        {
          "output_type": "error",
          "ename": "ERROR",
          "evalue": "ignored",
          "traceback": [
            "Error in library(geojsonsf): there is no package called ‘geojsonsf’\nTraceback:\n",
            "1. library(geojsonsf)"
          ]
        }
      ]
    },
    {
      "cell_type": "code",
      "metadata": {
        "id": "i-HLNLgslQ22"
      },
      "source": [
        "library(geojsonR)"
      ],
      "execution_count": 6,
      "outputs": []
    },
    {
      "cell_type": "code",
      "metadata": {
        "id": "XgVIIxLEluyO",
        "outputId": "876ca61c-f5fa-4f65-fc53-25ec45b7a5cd",
        "colab": {
          "base_uri": "https://localhost:8080/",
          "height": 193
        }
      },
      "source": [
        "file_js = FROM_GeoJson(url_file_string = \"Open-Context-GeoSpatial-Summary.geojson\")"
      ],
      "execution_count": 7,
      "outputs": [
        {
          "output_type": "error",
          "ename": "ERROR",
          "evalue": "ignored",
          "traceback": [
            "Error in export_From_geojson(url_file_string, Flatten_Coords, Average_Coordinates, : The output json object is NULL! See if any of the input data objects is not a valid json data type!\nTraceback:\n",
            "1. FROM_GeoJson(url_file_string = \"Open-Context-GeoSpatial-Summary.geojson\")",
            "2. export_From_geojson(url_file_string, Flatten_Coords, Average_Coordinates, \n .     To_List)"
          ]
        }
      ]
    },
    {
      "cell_type": "code",
      "metadata": {
        "id": "twHoBivbnT3o"
      },
      "source": [
        ""
      ],
      "execution_count": null,
      "outputs": []
    }
  ]
}