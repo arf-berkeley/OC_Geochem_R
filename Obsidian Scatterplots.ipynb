{
 "cells": [
  {
   "cell_type": "code",
   "execution_count": null,
   "metadata": {},
   "outputs": [],
   "source": [
    "install.packages(\"tidyverse\")\n",
    "install.packages(\"plotly\")\n",
    "install.packages(\"DT\")"
   ]
  },
  {
   "cell_type": "code",
   "execution_count": null,
   "metadata": {},
   "outputs": [],
   "source": [
    "library(tidyverse)\n",
    "library(googlesheets4) # To access data hosted in Google sheets\n",
    "library(plotly)"
   ]
  },
  {
   "cell_type": "code",
   "execution_count": null,
   "metadata": {},
   "outputs": [],
   "source": [
    "tri_naa <- read_csv(\"naa_tripartite.csv\")"
   ]
  },
  {
   "cell_type": "code",
   "execution_count": null,
   "metadata": {
    "scrolled": true
   },
   "outputs": [],
   "source": [
    "head (tri_naa)"
   ]
  },
  {
   "cell_type": "code",
   "execution_count": null,
   "metadata": {},
   "outputs": [],
   "source": [
    "# Adjusts inline plot size\n",
    "options(repr.plot.width = 8, repr.plot.height = 5)"
   ]
  },
  {
   "cell_type": "code",
   "execution_count": null,
   "metadata": {
    "scrolled": true
   },
   "outputs": [],
   "source": [
    "# Note the many 0 values in Zr\n",
    "ggplot(tri_naa,aes(Rb,Zr,color = ChemGroup)) + geom_point ()"
   ]
  },
  {
   "cell_type": "code",
   "execution_count": null,
   "metadata": {
    "scrolled": true
   },
   "outputs": [],
   "source": [
    "# Th has no zero values but comes from the L lines, less sensitive\n",
    "ggplot(tri_naa,aes(Rb,Mn,color = ChemGroup)) + geom_point ()"
   ]
  },
  {
   "cell_type": "code",
   "execution_count": null,
   "metadata": {},
   "outputs": [],
   "source": [
    "# DATA ELLIPSES using stat_ellipse()\n",
    "# A minimum of 3 points is required to draw an ellipse. Add column\n",
    "tri_naa <- add_count(tri_naa,ChemGroup)"
   ]
  },
  {
   "cell_type": "code",
   "execution_count": null,
   "metadata": {},
   "outputs": [],
   "source": [
    "head(tri_naa)"
   ]
  },
  {
   "cell_type": "code",
   "execution_count": null,
   "metadata": {},
   "outputs": [],
   "source": [
    "no_naa_ellipse <- subset (tri_naa,n<=3)\n",
    "naa_ellipse <- subset(tri_naa, n>3)"
   ]
  },
  {
   "cell_type": "code",
   "execution_count": null,
   "metadata": {},
   "outputs": [],
   "source": [
    "head (no_naa_ellipse)\n",
    "head (naa_ellipse)"
   ]
  },
  {
   "cell_type": "code",
   "execution_count": null,
   "metadata": {},
   "outputs": [],
   "source": [
    "p1 <- ggplot(NULL, aes(Rb,Mn/Fe,color=ChemGroup)) + stat_ellipse(data=naa_ellipse) \n",
    "p1"
   ]
  },
  {
   "cell_type": "code",
   "execution_count": null,
   "metadata": {},
   "outputs": [],
   "source": [
    "style(p1, hoveron = \"points\", hovertext = tri_naa$ChemGroup, hoverlabel = list(bgcolor = \"white\"))"
   ]
  },
  {
   "cell_type": "code",
   "execution_count": null,
   "metadata": {},
   "outputs": [],
   "source": [
    "# To overlay plot must add dummy ChemGroup variable to artifact data\n",
    "tri_xrf_art$ChemGroup = as.factor(0)"
   ]
  },
  {
   "cell_type": "code",
   "execution_count": null,
   "metadata": {},
   "outputs": [],
   "source": [
    "p2 <- p1 + geom_point(data=tri_xrf_art)\n",
    "p2"
   ]
  },
  {
   "cell_type": "code",
   "execution_count": null,
   "metadata": {},
   "outputs": [],
   "source": [
    "# embed_notebook(ggplotly(g1)) # in case things aren't appearing in Jupyter notebook\n",
    "style(p2, hovertext = tri_xrf_art$SampleName, hoverlabel = list(bgcolor = \"white\"))"
   ]
  },
  {
   "cell_type": "code",
   "execution_count": null,
   "metadata": {},
   "outputs": [],
   "source": [
    "head(tri_xrf_art)"
   ]
  },
  {
   "cell_type": "code",
   "execution_count": null,
   "metadata": {},
   "outputs": [],
   "source": [
    "# DataTable package provides a searchable, sortable version of the data frame\n",
    "require(DT)\n",
    "require(data.table)\n",
    "datatable(tri_xrf_art)\n",
    "# PROBLEM: cannot seem to save the edited DT tables from Jupyter"
   ]
  },
  {
   "cell_type": "code",
   "execution_count": null,
   "metadata": {},
   "outputs": [],
   "source": []
  },
  {
   "cell_type": "code",
   "execution_count": null,
   "metadata": {},
   "outputs": [],
   "source": [
    "# TERNARY PLOT EXAMPLE\n",
    "# axis layout\n",
    "axis <- function(title) {\n",
    "  list(\n",
    "    title = title,\n",
    "    titlefont = list(\n",
    "      size = 20\n",
    "    ),\n",
    "    tickfont = list(\n",
    "      size = 15\n",
    "    ),\n",
    "    tickcolor = 'rgba(0,0,0,0)',\n",
    "    ticklen = 5\n",
    "  )\n",
    "}\n",
    "# Ternary Plot\n",
    "fig <- tri_xrf_art %>% plot_ly()\n",
    "fig <- fig %>% add_trace(\n",
    "    type = 'scatterternary',\n",
    "    mode = 'markers',\n",
    "    a = ~Rb,\n",
    "    b = ~Sr,\n",
    "    c = ~Zr,\n",
    "    text = ~SampleName,\n",
    "    marker = list( \n",
    "      symbol = 100,\n",
    "      color = '#DB7365',\n",
    "      size = 14,\n",
    "      line = list('width' = 2)\n",
    "    )\n",
    "  )\n",
    "fig <- fig %>% layout(\n",
    "    title = \"Geochemistry Ternary Plot\",\n",
    "    ternary = list(\n",
    "      sum = 100,\n",
    "      aaxis = axis('Rb'),\n",
    "      baxis = axis('Sr'),\n",
    "      caxis = axis('Zr')\n",
    "    )\n",
    "  )\n",
    "fig"
   ]
  },
  {
   "cell_type": "code",
   "execution_count": null,
   "metadata": {},
   "outputs": [],
   "source": [
    "# Plotting ratios is simple\n",
    "p3 <- ggplot(data=tri_xrf_art, aes(Y/Zr, Rb/Sr, color=SampleName)) + geom_point()"
   ]
  },
  {
   "cell_type": "code",
   "execution_count": null,
   "metadata": {
    "scrolled": true
   },
   "outputs": [],
   "source": [
    "ggplotly(p3)"
   ]
  },
  {
   "cell_type": "code",
   "execution_count": null,
   "metadata": {},
   "outputs": [],
   "source": []
  },
  {
   "cell_type": "code",
   "execution_count": null,
   "metadata": {},
   "outputs": [],
   "source": []
  }
 ],
 "metadata": {
  "kernelspec": {
   "display_name": "R",
   "language": "R",
   "name": "ir"
  },
  "language_info": {
   "codemirror_mode": "r",
   "file_extension": ".r",
   "mimetype": "text/x-r-source",
   "name": "R",
   "pygments_lexer": "r",
   "version": "4.0.5"
  }
 },
 "nbformat": 4,
 "nbformat_minor": 4
}
